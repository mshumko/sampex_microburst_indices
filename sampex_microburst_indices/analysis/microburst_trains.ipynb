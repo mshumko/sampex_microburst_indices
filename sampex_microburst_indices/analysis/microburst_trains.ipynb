{
 "cells": [
  {
   "cell_type": "code",
   "execution_count": 1,
   "metadata": {},
   "outputs": [
    {
     "name": "stderr",
     "output_type": "stream",
     "text": [
      "/home/mike/research/sampex_microburst_indices/env/lib/python3.9/site-packages/matplotlib_inline/config.py:66: DeprecationWarning: InlineBackend._figure_formats_changed is deprecated in traitlets 4.1: use @observe and @unobserve instead.\n",
      "  def _figure_formats_changed(self, name, old, new):\n"
     ]
    }
   ],
   "source": [
    "import itertools\n",
    "\n",
    "import pandas as pd\n",
    "import numpy as np\n",
    "import matplotlib.pyplot as plt\n",
    "\n",
    "from sampex_microburst_indices.load.catalog import Catalog\n",
    "from sampex_microburst_indices.id.index_intervals import get_index_intervals"
   ]
  },
  {
   "cell_type": "markdown",
   "metadata": {},
   "source": [
    "Load the CSV file, parse the time stamps, remove rows with unfilled attitude data, and removes spin times."
   ]
  },
  {
   "cell_type": "code",
   "execution_count": 2,
   "metadata": {},
   "outputs": [],
   "source": [
    "cat = Catalog(0, parse_dates=True).load()"
   ]
  },
  {
   "cell_type": "code",
   "execution_count": 3,
   "metadata": {},
   "outputs": [
    {
     "name": "stdout",
     "output_type": "stream",
     "text": [
      "Index(['burst_param', 'date', 'GEO_Long', 'GEO_Lat', 'Altitude', 'L_Shell',\n",
      "       'MLT', 'Att_Flag', 'Pitch', 'AE', 'AL', 'AU', 'SYM/D', 'SYM/H', 'ASY/D',\n",
      "       'ASY/H'],\n",
      "      dtype='object') \n",
      " (244020, 16)\n"
     ]
    }
   ],
   "source": [
    "print(cat.columns, '\\n', cat.shape)"
   ]
  },
  {
   "cell_type": "code",
   "execution_count": 4,
   "metadata": {},
   "outputs": [
    {
     "data": {
      "text/html": [
       "<div>\n",
       "<style scoped>\n",
       "    .dataframe tbody tr th:only-of-type {\n",
       "        vertical-align: middle;\n",
       "    }\n",
       "\n",
       "    .dataframe tbody tr th {\n",
       "        vertical-align: top;\n",
       "    }\n",
       "\n",
       "    .dataframe thead th {\n",
       "        text-align: right;\n",
       "    }\n",
       "</style>\n",
       "<table border=\"1\" class=\"dataframe\">\n",
       "  <thead>\n",
       "    <tr style=\"text-align: right;\">\n",
       "      <th></th>\n",
       "      <th>burst_param</th>\n",
       "      <th>date</th>\n",
       "      <th>GEO_Long</th>\n",
       "      <th>GEO_Lat</th>\n",
       "      <th>Altitude</th>\n",
       "      <th>L_Shell</th>\n",
       "      <th>MLT</th>\n",
       "      <th>Att_Flag</th>\n",
       "      <th>Pitch</th>\n",
       "      <th>AE</th>\n",
       "      <th>AL</th>\n",
       "      <th>AU</th>\n",
       "      <th>SYM/D</th>\n",
       "      <th>SYM/H</th>\n",
       "      <th>ASY/D</th>\n",
       "      <th>ASY/H</th>\n",
       "    </tr>\n",
       "    <tr>\n",
       "      <th>dateTime</th>\n",
       "      <th></th>\n",
       "      <th></th>\n",
       "      <th></th>\n",
       "      <th></th>\n",
       "      <th></th>\n",
       "      <th></th>\n",
       "      <th></th>\n",
       "      <th></th>\n",
       "      <th></th>\n",
       "      <th></th>\n",
       "      <th></th>\n",
       "      <th></th>\n",
       "      <th></th>\n",
       "      <th></th>\n",
       "      <th></th>\n",
       "      <th></th>\n",
       "    </tr>\n",
       "  </thead>\n",
       "  <tbody>\n",
       "    <tr>\n",
       "      <th>1997-11-09 19:56:40.720</th>\n",
       "      <td>35.3</td>\n",
       "      <td>1997-11-09</td>\n",
       "      <td>108.686</td>\n",
       "      <td>69.4370</td>\n",
       "      <td>681.303</td>\n",
       "      <td>5.47977</td>\n",
       "      <td>3.30990</td>\n",
       "      <td>0.0</td>\n",
       "      <td>32.9061</td>\n",
       "      <td>660.0</td>\n",
       "      <td>-518.0</td>\n",
       "      <td>142.0</td>\n",
       "      <td>-5.0</td>\n",
       "      <td>-16.0</td>\n",
       "      <td>23.0</td>\n",
       "      <td>42.0</td>\n",
       "    </tr>\n",
       "    <tr>\n",
       "      <th>1997-11-09 19:56:46.920</th>\n",
       "      <td>16.5</td>\n",
       "      <td>1997-11-09</td>\n",
       "      <td>109.084</td>\n",
       "      <td>69.1038</td>\n",
       "      <td>681.373</td>\n",
       "      <td>5.34191</td>\n",
       "      <td>3.33664</td>\n",
       "      <td>0.0</td>\n",
       "      <td>32.8835</td>\n",
       "      <td>660.0</td>\n",
       "      <td>-518.0</td>\n",
       "      <td>142.0</td>\n",
       "      <td>-5.0</td>\n",
       "      <td>-16.0</td>\n",
       "      <td>23.0</td>\n",
       "      <td>42.0</td>\n",
       "    </tr>\n",
       "    <tr>\n",
       "      <th>1997-11-09 19:57:02.440</th>\n",
       "      <td>10.4</td>\n",
       "      <td>1997-11-09</td>\n",
       "      <td>110.202</td>\n",
       "      <td>68.0984</td>\n",
       "      <td>681.558</td>\n",
       "      <td>4.99033</td>\n",
       "      <td>3.41316</td>\n",
       "      <td>0.0</td>\n",
       "      <td>32.8191</td>\n",
       "      <td>660.0</td>\n",
       "      <td>-518.0</td>\n",
       "      <td>142.0</td>\n",
       "      <td>-5.0</td>\n",
       "      <td>-16.0</td>\n",
       "      <td>23.0</td>\n",
       "      <td>42.0</td>\n",
       "    </tr>\n",
       "    <tr>\n",
       "      <th>1997-11-09 19:57:02.760</th>\n",
       "      <td>10.2</td>\n",
       "      <td>1997-11-09</td>\n",
       "      <td>110.202</td>\n",
       "      <td>68.0984</td>\n",
       "      <td>681.558</td>\n",
       "      <td>4.99033</td>\n",
       "      <td>3.41316</td>\n",
       "      <td>0.0</td>\n",
       "      <td>32.8191</td>\n",
       "      <td>660.0</td>\n",
       "      <td>-518.0</td>\n",
       "      <td>142.0</td>\n",
       "      <td>-5.0</td>\n",
       "      <td>-16.0</td>\n",
       "      <td>23.0</td>\n",
       "      <td>42.0</td>\n",
       "    </tr>\n",
       "    <tr>\n",
       "      <th>1997-11-09 19:57:02.980</th>\n",
       "      <td>10.4</td>\n",
       "      <td>1997-11-09</td>\n",
       "      <td>110.202</td>\n",
       "      <td>68.0984</td>\n",
       "      <td>681.558</td>\n",
       "      <td>4.99033</td>\n",
       "      <td>3.41316</td>\n",
       "      <td>0.0</td>\n",
       "      <td>32.8191</td>\n",
       "      <td>660.0</td>\n",
       "      <td>-518.0</td>\n",
       "      <td>142.0</td>\n",
       "      <td>-5.0</td>\n",
       "      <td>-16.0</td>\n",
       "      <td>23.0</td>\n",
       "      <td>42.0</td>\n",
       "    </tr>\n",
       "  </tbody>\n",
       "</table>\n",
       "</div>"
      ],
      "text/plain": [
       "                         burst_param        date  GEO_Long  GEO_Lat  Altitude  \\\n",
       "dateTime                                                                        \n",
       "1997-11-09 19:56:40.720         35.3  1997-11-09   108.686  69.4370   681.303   \n",
       "1997-11-09 19:56:46.920         16.5  1997-11-09   109.084  69.1038   681.373   \n",
       "1997-11-09 19:57:02.440         10.4  1997-11-09   110.202  68.0984   681.558   \n",
       "1997-11-09 19:57:02.760         10.2  1997-11-09   110.202  68.0984   681.558   \n",
       "1997-11-09 19:57:02.980         10.4  1997-11-09   110.202  68.0984   681.558   \n",
       "\n",
       "                         L_Shell      MLT  Att_Flag    Pitch     AE     AL  \\\n",
       "dateTime                                                                     \n",
       "1997-11-09 19:56:40.720  5.47977  3.30990       0.0  32.9061  660.0 -518.0   \n",
       "1997-11-09 19:56:46.920  5.34191  3.33664       0.0  32.8835  660.0 -518.0   \n",
       "1997-11-09 19:57:02.440  4.99033  3.41316       0.0  32.8191  660.0 -518.0   \n",
       "1997-11-09 19:57:02.760  4.99033  3.41316       0.0  32.8191  660.0 -518.0   \n",
       "1997-11-09 19:57:02.980  4.99033  3.41316       0.0  32.8191  660.0 -518.0   \n",
       "\n",
       "                            AU  SYM/D  SYM/H  ASY/D  ASY/H  \n",
       "dateTime                                                    \n",
       "1997-11-09 19:56:40.720  142.0   -5.0  -16.0   23.0   42.0  \n",
       "1997-11-09 19:56:46.920  142.0   -5.0  -16.0   23.0   42.0  \n",
       "1997-11-09 19:57:02.440  142.0   -5.0  -16.0   23.0   42.0  \n",
       "1997-11-09 19:57:02.760  142.0   -5.0  -16.0   23.0   42.0  \n",
       "1997-11-09 19:57:02.980  142.0   -5.0  -16.0   23.0   42.0  "
      ]
     },
     "execution_count": 4,
     "metadata": {},
     "output_type": "execute_result"
    }
   ],
   "source": [
    "cat.head()"
   ]
  },
  {
   "cell_type": "code",
   "execution_count": 5,
   "metadata": {},
   "outputs": [
    {
     "data": {
      "text/plain": [
       "dateTime\n",
       "1997-11-09 19:56:40.720          NaN\n",
       "1997-11-09 19:56:46.920         6.20\n",
       "1997-11-09 19:57:02.440        15.52\n",
       "1997-11-09 19:57:02.760         0.32\n",
       "1997-11-09 19:57:02.980         0.22\n",
       "                             ...    \n",
       "2007-08-11 19:25:55.640         6.76\n",
       "2007-08-11 19:25:55.900         0.26\n",
       "2007-08-11 19:25:55.940         0.04\n",
       "2007-08-11 19:25:56.240         0.30\n",
       "2007-08-22 14:22:12.900    932176.66\n",
       "Name: dt, Length: 244020, dtype: float64"
      ]
     },
     "execution_count": 5,
     "metadata": {},
     "output_type": "execute_result"
    }
   ],
   "source": [
    "cat['dt'] = cat.index.to_series().diff().dt.total_seconds()\n",
    "# cat = cat.dropna()\n",
    "cat['dt']"
   ]
  },
  {
   "cell_type": "code",
   "execution_count": 6,
   "metadata": {},
   "outputs": [
    {
     "name": "stdout",
     "output_type": "stream",
     "text": [
      "The peak of the dt distribution is at 0.327 s.\n"
     ]
    },
    {
     "data": {
      "image/png": "[encoded data removed]",
      "text/plain": [
       "<Figure size 864x288 with 4 Axes>"
      ]
     },
     "metadata": {
      "needs_background": "light"
     },
     "output_type": "display_data"
    }
   ],
   "source": [
    "fig, ax = plt.subplots(1, 4, figsize=(12, 4))\n",
    "ax[0].hist(cat['dt'], bins=np.linspace(0, 60))\n",
    "ax[1].hist(cat['dt'], bins=np.linspace(0, 10))\n",
    "ax[2].hist(cat['dt'], bins=np.linspace(0, 3))\n",
    "ax[3].hist(cat['dt'], bins=np.linspace(0, 1))\n",
    "\n",
    "for ax_i in ax:\n",
    "    ax_i.set_yscale('log');\n",
    "    ax_i.set_xlabel('Inter-microburst separation [s]')\n",
    "ax[0].set_ylabel('Number of microbursts')\n",
    "\n",
    "H, bins = np.histogram(cat['dt'], bins=np.linspace(0, 2))\n",
    "print(f'The peak of the dt distribution is at {round(bins[np.argmax(H)], 3)} s.')\n"
   ]
  },
  {
   "cell_type": "markdown",
   "metadata": {},
   "source": [
    "As we zoomed in, we found that the dt distribution is peaked at ~0.3 seconds."
   ]
  },
  {
   "cell_type": "code",
   "execution_count": 7,
   "metadata": {},
   "outputs": [
    {
     "data": {
      "text/plain": [
       "array([0.46, 0.96, 4.2 ])"
      ]
     },
     "execution_count": 7,
     "metadata": {},
     "output_type": "execute_result"
    }
   ],
   "source": [
    "np.nanquantile(cat['dt'], q=(0.25, .50, 0.75))"
   ]
  },
  {
   "cell_type": "markdown",
   "metadata": {},
   "source": [
    "# Calculate the microburst trains\n",
    "First define a maximum time threshold between microbursts to qualify as a microburst train"
   ]
  },
  {
   "cell_type": "code",
   "execution_count": 8,
   "metadata": {},
   "outputs": [],
   "source": [
    "threshold_s = 1\n",
    "train_indices = np.where(cat['dt'] <= threshold_s)[0]\n",
    "start_interval, end_interval = get_index_intervals(train_indices)"
   ]
  },
  {
   "cell_type": "code",
   "execution_count": 9,
   "metadata": {},
   "outputs": [
    {
     "data": {
      "text/plain": [
       "array([     3,      4,     13, ..., 244016, 244017, 244018])"
      ]
     },
     "execution_count": 9,
     "metadata": {},
     "output_type": "execute_result"
    }
   ],
   "source": [
    "train_indices"
   ]
  },
  {
   "cell_type": "code",
   "execution_count": 17,
   "metadata": {},
   "outputs": [
    {
     "name": "stdout",
     "output_type": "stream",
     "text": [
      "Calculating intervals: |###                 | 17%\r"
     ]
    }
   ],
   "source": [
    "def intervals(dt, threshold_s=1):\n",
    "    \"\"\"\n",
    "    Given a list of time differences, dt, calculate the start and end indices for\n",
    "    intervals where dt < threshold_s (units of seconds). \n",
    "    \"\"\"\n",
    "    # train_indices = np.where(dt < threshold_s)[0]\n",
    "    # interval_beaks = np.where(train_indices[1:] - train_indices[:-1] == 1)[0]\n",
    "    # start_index = np.insert(interval_beaks, 0, 0)\n",
    "    # end_index = np.insert(interval_beaks, len(interval_beaks), len(x))\n",
    "    # return start_index, end_index\n",
    "    i = 0\n",
    "    indices = np.zeros((0, 2), dtype=int)\n",
    "\n",
    "    while i < len(dt):\n",
    "\n",
    "        # Update the status % in the terminal.\n",
    "        progress_percent = round(100 * i / len(dt))\n",
    "        progress_str = \"#\" * (progress_percent // 5)\n",
    "        print(f'Calculating intervals: |{progress_str:<20}| {progress_percent}%', end='\\r')\n",
    "\n",
    "        if (dt[i] > threshold_s) or np.isnan(dt[i]):\n",
    "            i += 1\n",
    "            continue\n",
    "        else:\n",
    "            j = i\n",
    "            if j == len(dt):\n",
    "                break\n",
    "            while dt[j] <= threshold_s:\n",
    "                j += 1\n",
    "            # This assumes pandas's inclusive index slicing. Change j-1 to j for numpy indexing.\n",
    "            indices = np.vstack((indices, [i-1, j-1]))\n",
    "            i = j\n",
    "\n",
    "    return indices\n",
    "\n",
    "indices = intervals(cat['dt'], threshold_s=threshold_s)\n",
    "print(indices)"
   ]
  },
  {
   "cell_type": "markdown",
   "metadata": {},
   "source": [
    "## Validate groups"
   ]
  },
  {
   "cell_type": "code",
   "execution_count": 21,
   "metadata": {},
   "outputs": [
    {
     "data": {
      "text/html": [
       "<div>\n",
       "<style scoped>\n",
       "    .dataframe tbody tr th:only-of-type {\n",
       "        vertical-align: middle;\n",
       "    }\n",
       "\n",
       "    .dataframe tbody tr th {\n",
       "        vertical-align: top;\n",
       "    }\n",
       "\n",
       "    .dataframe thead th {\n",
       "        text-align: right;\n",
       "    }\n",
       "</style>\n",
       "<table border=\"1\" class=\"dataframe\">\n",
       "  <thead>\n",
       "    <tr style=\"text-align: right;\">\n",
       "      <th></th>\n",
       "      <th>dt</th>\n",
       "      <th>ind</th>\n",
       "    </tr>\n",
       "    <tr>\n",
       "      <th>dateTime</th>\n",
       "      <th></th>\n",
       "      <th></th>\n",
       "    </tr>\n",
       "  </thead>\n",
       "  <tbody>\n",
       "    <tr>\n",
       "      <th>1997-11-09 19:56:40.720</th>\n",
       "      <td>NaN</td>\n",
       "      <td>0</td>\n",
       "    </tr>\n",
       "    <tr>\n",
       "      <th>1997-11-09 19:56:46.920</th>\n",
       "      <td>6.20</td>\n",
       "      <td>1</td>\n",
       "    </tr>\n",
       "    <tr>\n",
       "      <th>1997-11-09 19:57:02.440</th>\n",
       "      <td>15.52</td>\n",
       "      <td>2</td>\n",
       "    </tr>\n",
       "    <tr>\n",
       "      <th>1997-11-09 19:57:02.760</th>\n",
       "      <td>0.32</td>\n",
       "      <td>3</td>\n",
       "    </tr>\n",
       "    <tr>\n",
       "      <th>1997-11-09 19:57:02.980</th>\n",
       "      <td>0.22</td>\n",
       "      <td>4</td>\n",
       "    </tr>\n",
       "    <tr>\n",
       "      <th>1997-11-09 19:57:09.720</th>\n",
       "      <td>6.74</td>\n",
       "      <td>5</td>\n",
       "    </tr>\n",
       "    <tr>\n",
       "      <th>1997-11-09 20:42:16.280</th>\n",
       "      <td>2706.56</td>\n",
       "      <td>6</td>\n",
       "    </tr>\n",
       "    <tr>\n",
       "      <th>1997-11-10 00:31:21.700</th>\n",
       "      <td>13745.42</td>\n",
       "      <td>7</td>\n",
       "    </tr>\n",
       "    <tr>\n",
       "      <th>1997-11-10 00:47:48.780</th>\n",
       "      <td>987.08</td>\n",
       "      <td>8</td>\n",
       "    </tr>\n",
       "    <tr>\n",
       "      <th>1997-11-10 01:20:27.020</th>\n",
       "      <td>1958.24</td>\n",
       "      <td>9</td>\n",
       "    </tr>\n",
       "    <tr>\n",
       "      <th>1997-11-10 02:58:24.840</th>\n",
       "      <td>5877.82</td>\n",
       "      <td>10</td>\n",
       "    </tr>\n",
       "    <tr>\n",
       "      <th>1997-11-10 03:14:31.560</th>\n",
       "      <td>966.72</td>\n",
       "      <td>11</td>\n",
       "    </tr>\n",
       "    <tr>\n",
       "      <th>1997-11-10 04:52:21.960</th>\n",
       "      <td>5870.40</td>\n",
       "      <td>12</td>\n",
       "    </tr>\n",
       "    <tr>\n",
       "      <th>1997-11-10 04:52:22.540</th>\n",
       "      <td>0.58</td>\n",
       "      <td>13</td>\n",
       "    </tr>\n",
       "    <tr>\n",
       "      <th>1997-11-10 04:52:24.560</th>\n",
       "      <td>2.02</td>\n",
       "      <td>14</td>\n",
       "    </tr>\n",
       "    <tr>\n",
       "      <th>1997-11-10 04:52:25.180</th>\n",
       "      <td>0.62</td>\n",
       "      <td>15</td>\n",
       "    </tr>\n",
       "    <tr>\n",
       "      <th>1997-11-10 04:52:25.580</th>\n",
       "      <td>0.40</td>\n",
       "      <td>16</td>\n",
       "    </tr>\n",
       "    <tr>\n",
       "      <th>1997-11-10 04:52:26.500</th>\n",
       "      <td>0.92</td>\n",
       "      <td>17</td>\n",
       "    </tr>\n",
       "    <tr>\n",
       "      <th>1997-11-10 05:39:04.000</th>\n",
       "      <td>2797.50</td>\n",
       "      <td>18</td>\n",
       "    </tr>\n",
       "    <tr>\n",
       "      <th>1997-11-10 07:16:46.440</th>\n",
       "      <td>5862.44</td>\n",
       "      <td>19</td>\n",
       "    </tr>\n",
       "  </tbody>\n",
       "</table>\n",
       "</div>"
      ],
      "text/plain": [
       "                               dt  ind\n",
       "dateTime                              \n",
       "1997-11-09 19:56:40.720       NaN    0\n",
       "1997-11-09 19:56:46.920      6.20    1\n",
       "1997-11-09 19:57:02.440     15.52    2\n",
       "1997-11-09 19:57:02.760      0.32    3\n",
       "1997-11-09 19:57:02.980      0.22    4\n",
       "1997-11-09 19:57:09.720      6.74    5\n",
       "1997-11-09 20:42:16.280   2706.56    6\n",
       "1997-11-10 00:31:21.700  13745.42    7\n",
       "1997-11-10 00:47:48.780    987.08    8\n",
       "1997-11-10 01:20:27.020   1958.24    9\n",
       "1997-11-10 02:58:24.840   5877.82   10\n",
       "1997-11-10 03:14:31.560    966.72   11\n",
       "1997-11-10 04:52:21.960   5870.40   12\n",
       "1997-11-10 04:52:22.540      0.58   13\n",
       "1997-11-10 04:52:24.560      2.02   14\n",
       "1997-11-10 04:52:25.180      0.62   15\n",
       "1997-11-10 04:52:25.580      0.40   16\n",
       "1997-11-10 04:52:26.500      0.92   17\n",
       "1997-11-10 05:39:04.000   2797.50   18\n",
       "1997-11-10 07:16:46.440   5862.44   19"
      ]
     },
     "execution_count": 21,
     "metadata": {},
     "output_type": "execute_result"
    }
   ],
   "source": [
    "max_index = 20\n",
    "cat_copy = cat.iloc[:max_index].copy()\n",
    "cat_copy['ind'] = np.arange(max_index)\n",
    "cat_copy.iloc[:max_index][['dt', 'ind']]"
   ]
  },
  {
   "cell_type": "markdown",
   "metadata": {},
   "source": [
    "With threshold less than 1 s, there should be three trains: microbursts on rows 1-3, 11-12, 13-16. Other intervals are for single microbusts."
   ]
  },
  {
   "cell_type": "code",
   "execution_count": 22,
   "metadata": {},
   "outputs": [
    {
     "name": "stdout",
     "output_type": "stream",
     "text": [
      "dateTime\n",
      "1997-11-09 19:56:40.720    NaN\n",
      "1997-11-09 19:56:46.920    6.2\n",
      "Name: dt, dtype: float64\n",
      "dateTime\n",
      "1997-11-09 19:57:02.440    15.52\n",
      "Name: dt, dtype: float64\n",
      "dateTime\n",
      "1997-11-09 19:57:02.760    0.32\n",
      "1997-11-09 19:57:02.980    0.22\n",
      "1997-11-09 19:57:09.720    6.74\n",
      "Name: dt, dtype: float64\n",
      "dateTime\n",
      "1997-11-09 20:42:16.280    2706.56\n",
      "Name: dt, dtype: float64\n",
      "dateTime\n",
      "1997-11-10 00:31:21.700    13745.42\n",
      "1997-11-10 00:47:48.780      987.08\n",
      "Name: dt, dtype: float64\n"
     ]
    }
   ],
   "source": [
    "validate_n = 5\n",
    "\n",
    "for start, end in zip(start_interval[:validate_n], end_interval[:validate_n]):\n",
    "    print(cat_copy.iloc[start:end]['dt'])"
   ]
  },
  {
   "cell_type": "code",
   "execution_count": 14,
   "metadata": {},
   "outputs": [
    {
     "data": {
      "image/png": "[encoded data removed]",
      "text/plain": [
       "<Figure size 864x216 with 1 Axes>"
      ]
     },
     "metadata": {
      "needs_background": "light"
     },
     "output_type": "display_data"
    }
   ],
   "source": [
    "validate_n = 5\n",
    "colors = itertools.cycle('rgbkc')\n",
    "fig, bx = plt.subplots(figsize=(12, 3))\n",
    "\n",
    "for start, end in zip(start_interval[:validate_n], end_interval[:validate_n]):\n",
    "    if end-start == 1:\n",
    "        continue\n",
    "    bx.vlines(cat.iloc[start:end].index, 0, 1, colors=next(colors))"
   ]
  }
 ],
 "metadata": {
  "interpreter": {
   "hash": "90f04d48d5171605cdd1b77d730eceba36db9e39b664e173bf4ca911ed718a78"
  },
  "kernelspec": {
   "display_name": "Python 3.9.0 64-bit ('env': venv)",
   "language": "python",
   "name": "python3"
  },
  "language_info": {
   "codemirror_mode": {
    "name": "ipython",
    "version": 3
   },
   "file_extension": ".py",
   "mimetype": "text/x-python",
   "name": "python",
   "nbconvert_exporter": "python",
   "pygments_lexer": "ipython3",
   "version": "3.9.0"
  },
  "orig_nbformat": 4
 },
 "nbformat": 4,
 "nbformat_minor": 2
}

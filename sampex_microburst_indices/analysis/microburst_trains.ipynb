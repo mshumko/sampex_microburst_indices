{
 "cells": [
  {
   "cell_type": "code",
   "execution_count": 1,
   "metadata": {},
   "outputs": [
    {
     "name": "stderr",
     "output_type": "stream",
     "text": [
      "/home/mike/research/sampex_microburst_indices/env/lib/python3.9/site-packages/matplotlib_inline/config.py:66: DeprecationWarning: InlineBackend._figure_formats_changed is deprecated in traitlets 4.1: use @observe and @unobserve instead.\n",
      "  def _figure_formats_changed(self, name, old, new):\n"
     ]
    }
   ],
   "source": [
    "import itertools\n",
    "\n",
    "import pandas as pd\n",
    "import numpy as np\n",
    "import matplotlib.pyplot as plt\n",
    "\n",
    "from sampex_microburst_indices.load.catalog import Catalog\n",
    "from sampex_microburst_indices.id.index_intervals import get_index_intervals"
   ]
  },
  {
   "cell_type": "markdown",
   "metadata": {},
   "source": [
    "Load the CSV file, parse the time stamps, remove rows with unfilled attitude data, and removes spin times."
   ]
  },
  {
   "cell_type": "code",
   "execution_count": 2,
   "metadata": {},
   "outputs": [],
   "source": [
    "cat = Catalog(0, parse_dates=True).load()"
   ]
  },
  {
   "cell_type": "code",
   "execution_count": 3,
   "metadata": {},
   "outputs": [
    {
     "name": "stdout",
     "output_type": "stream",
     "text": [
      "Index(['burst_param', 'date', 'GEO_Long', 'GEO_Lat', 'Altitude', 'L_Shell',\n",
      "       'MLT', 'Att_Flag', 'Pitch', 'AE', 'AL', 'AU', 'SYM/D', 'SYM/H', 'ASY/D',\n",
      "       'ASY/H'],\n",
      "      dtype='object') \n",
      " (244020, 16)\n"
     ]
    }
   ],
   "source": [
    "print(cat.columns, '\\n', cat.shape)"
   ]
  },
  {
   "cell_type": "code",
   "execution_count": 4,
   "metadata": {},
   "outputs": [
    {
     "data": {
      "text/html": [
       "<div>\n",
       "<style scoped>\n",
       "    .dataframe tbody tr th:only-of-type {\n",
       "        vertical-align: middle;\n",
       "    }\n",
       "\n",
       "    .dataframe tbody tr th {\n",
       "        vertical-align: top;\n",
       "    }\n",
       "\n",
       "    .dataframe thead th {\n",
       "        text-align: right;\n",
       "    }\n",
       "</style>\n",
       "<table border=\"1\" class=\"dataframe\">\n",
       "  <thead>\n",
       "    <tr style=\"text-align: right;\">\n",
       "      <th></th>\n",
       "      <th>burst_param</th>\n",
       "      <th>date</th>\n",
       "      <th>GEO_Long</th>\n",
       "      <th>GEO_Lat</th>\n",
       "      <th>Altitude</th>\n",
       "      <th>L_Shell</th>\n",
       "      <th>MLT</th>\n",
       "      <th>Att_Flag</th>\n",
       "      <th>Pitch</th>\n",
       "      <th>AE</th>\n",
       "      <th>AL</th>\n",
       "      <th>AU</th>\n",
       "      <th>SYM/D</th>\n",
       "      <th>SYM/H</th>\n",
       "      <th>ASY/D</th>\n",
       "      <th>ASY/H</th>\n",
       "    </tr>\n",
       "    <tr>\n",
       "      <th>dateTime</th>\n",
       "      <th></th>\n",
       "      <th></th>\n",
       "      <th></th>\n",
       "      <th></th>\n",
       "      <th></th>\n",
       "      <th></th>\n",
       "      <th></th>\n",
       "      <th></th>\n",
       "      <th></th>\n",
       "      <th></th>\n",
       "      <th></th>\n",
       "      <th></th>\n",
       "      <th></th>\n",
       "      <th></th>\n",
       "      <th></th>\n",
       "      <th></th>\n",
       "    </tr>\n",
       "  </thead>\n",
       "  <tbody>\n",
       "    <tr>\n",
       "      <th>1997-11-09 19:56:40.720</th>\n",
       "      <td>35.3</td>\n",
       "      <td>1997-11-09</td>\n",
       "      <td>108.686</td>\n",
       "      <td>69.4370</td>\n",
       "      <td>681.303</td>\n",
       "      <td>5.47977</td>\n",
       "      <td>3.30990</td>\n",
       "      <td>0.0</td>\n",
       "      <td>32.9061</td>\n",
       "      <td>660.0</td>\n",
       "      <td>-518.0</td>\n",
       "      <td>142.0</td>\n",
       "      <td>-5.0</td>\n",
       "      <td>-16.0</td>\n",
       "      <td>23.0</td>\n",
       "      <td>42.0</td>\n",
       "    </tr>\n",
       "    <tr>\n",
       "      <th>1997-11-09 19:56:46.920</th>\n",
       "      <td>16.5</td>\n",
       "      <td>1997-11-09</td>\n",
       "      <td>109.084</td>\n",
       "      <td>69.1038</td>\n",
       "      <td>681.373</td>\n",
       "      <td>5.34191</td>\n",
       "      <td>3.33664</td>\n",
       "      <td>0.0</td>\n",
       "      <td>32.8835</td>\n",
       "      <td>660.0</td>\n",
       "      <td>-518.0</td>\n",
       "      <td>142.0</td>\n",
       "      <td>-5.0</td>\n",
       "      <td>-16.0</td>\n",
       "      <td>23.0</td>\n",
       "      <td>42.0</td>\n",
       "    </tr>\n",
       "    <tr>\n",
       "      <th>1997-11-09 19:57:02.440</th>\n",
       "      <td>10.4</td>\n",
       "      <td>1997-11-09</td>\n",
       "      <td>110.202</td>\n",
       "      <td>68.0984</td>\n",
       "      <td>681.558</td>\n",
       "      <td>4.99033</td>\n",
       "      <td>3.41316</td>\n",
       "      <td>0.0</td>\n",
       "      <td>32.8191</td>\n",
       "      <td>660.0</td>\n",
       "      <td>-518.0</td>\n",
       "      <td>142.0</td>\n",
       "      <td>-5.0</td>\n",
       "      <td>-16.0</td>\n",
       "      <td>23.0</td>\n",
       "      <td>42.0</td>\n",
       "    </tr>\n",
       "    <tr>\n",
       "      <th>1997-11-09 19:57:02.760</th>\n",
       "      <td>10.2</td>\n",
       "      <td>1997-11-09</td>\n",
       "      <td>110.202</td>\n",
       "      <td>68.0984</td>\n",
       "      <td>681.558</td>\n",
       "      <td>4.99033</td>\n",
       "      <td>3.41316</td>\n",
       "      <td>0.0</td>\n",
       "      <td>32.8191</td>\n",
       "      <td>660.0</td>\n",
       "      <td>-518.0</td>\n",
       "      <td>142.0</td>\n",
       "      <td>-5.0</td>\n",
       "      <td>-16.0</td>\n",
       "      <td>23.0</td>\n",
       "      <td>42.0</td>\n",
       "    </tr>\n",
       "    <tr>\n",
       "      <th>1997-11-09 19:57:02.980</th>\n",
       "      <td>10.4</td>\n",
       "      <td>1997-11-09</td>\n",
       "      <td>110.202</td>\n",
       "      <td>68.0984</td>\n",
       "      <td>681.558</td>\n",
       "      <td>4.99033</td>\n",
       "      <td>3.41316</td>\n",
       "      <td>0.0</td>\n",
       "      <td>32.8191</td>\n",
       "      <td>660.0</td>\n",
       "      <td>-518.0</td>\n",
       "      <td>142.0</td>\n",
       "      <td>-5.0</td>\n",
       "      <td>-16.0</td>\n",
       "      <td>23.0</td>\n",
       "      <td>42.0</td>\n",
       "    </tr>\n",
       "  </tbody>\n",
       "</table>\n",
       "</div>"
      ],
      "text/plain": [
       "                         burst_param        date  GEO_Long  GEO_Lat  Altitude  \\\n",
       "dateTime                                                                        \n",
       "1997-11-09 19:56:40.720         35.3  1997-11-09   108.686  69.4370   681.303   \n",
       "1997-11-09 19:56:46.920         16.5  1997-11-09   109.084  69.1038   681.373   \n",
       "1997-11-09 19:57:02.440         10.4  1997-11-09   110.202  68.0984   681.558   \n",
       "1997-11-09 19:57:02.760         10.2  1997-11-09   110.202  68.0984   681.558   \n",
       "1997-11-09 19:57:02.980         10.4  1997-11-09   110.202  68.0984   681.558   \n",
       "\n",
       "                         L_Shell      MLT  Att_Flag    Pitch     AE     AL  \\\n",
       "dateTime                                                                     \n",
       "1997-11-09 19:56:40.720  5.47977  3.30990       0.0  32.9061  660.0 -518.0   \n",
       "1997-11-09 19:56:46.920  5.34191  3.33664       0.0  32.8835  660.0 -518.0   \n",
       "1997-11-09 19:57:02.440  4.99033  3.41316       0.0  32.8191  660.0 -518.0   \n",
       "1997-11-09 19:57:02.760  4.99033  3.41316       0.0  32.8191  660.0 -518.0   \n",
       "1997-11-09 19:57:02.980  4.99033  3.41316       0.0  32.8191  660.0 -518.0   \n",
       "\n",
       "                            AU  SYM/D  SYM/H  ASY/D  ASY/H  \n",
       "dateTime                                                    \n",
       "1997-11-09 19:56:40.720  142.0   -5.0  -16.0   23.0   42.0  \n",
       "1997-11-09 19:56:46.920  142.0   -5.0  -16.0   23.0   42.0  \n",
       "1997-11-09 19:57:02.440  142.0   -5.0  -16.0   23.0   42.0  \n",
       "1997-11-09 19:57:02.760  142.0   -5.0  -16.0   23.0   42.0  \n",
       "1997-11-09 19:57:02.980  142.0   -5.0  -16.0   23.0   42.0  "
      ]
     },
     "execution_count": 4,
     "metadata": {},
     "output_type": "execute_result"
    }
   ],
   "source": [
    "cat.head()"
   ]
  },
  {
   "cell_type": "code",
   "execution_count": 5,
   "metadata": {},
   "outputs": [
    {
     "data": {
      "text/plain": [
       "dateTime\n",
       "1997-11-09 19:56:40.720          NaN\n",
       "1997-11-09 19:56:46.920         6.20\n",
       "1997-11-09 19:57:02.440        15.52\n",
       "1997-11-09 19:57:02.760         0.32\n",
       "1997-11-09 19:57:02.980         0.22\n",
       "                             ...    \n",
       "2007-08-11 19:25:55.640         6.76\n",
       "2007-08-11 19:25:55.900         0.26\n",
       "2007-08-11 19:25:55.940         0.04\n",
       "2007-08-11 19:25:56.240         0.30\n",
       "2007-08-22 14:22:12.900    932176.66\n",
       "Name: dt, Length: 244020, dtype: float64"
      ]
     },
     "execution_count": 5,
     "metadata": {},
     "output_type": "execute_result"
    }
   ],
   "source": [
    "cat['dt'] = cat.index.to_series().diff().dt.total_seconds()\n",
    "# cat = cat.dropna()\n",
    "cat['dt']"
   ]
  },
  {
   "cell_type": "code",
   "execution_count": 6,
   "metadata": {},
   "outputs": [
    {
     "name": "stdout",
     "output_type": "stream",
     "text": [
      "The peak of the dt distribution is at 0.327 s.\n"
     ]
    },
    {
     "data": {
      "image/png": "[encoded data removed]",
      "text/plain": [
       "<Figure size 864x288 with 4 Axes>"
      ]
     },
     "metadata": {
      "needs_background": "light"
     },
     "output_type": "display_data"
    }
   ],
   "source": [
    "fig, ax = plt.subplots(1, 4, figsize=(12, 4))\n",
    "ax[0].hist(cat['dt'], bins=np.linspace(0, 60))\n",
    "ax[1].hist(cat['dt'], bins=np.linspace(0, 10))\n",
    "ax[2].hist(cat['dt'], bins=np.linspace(0, 3))\n",
    "ax[3].hist(cat['dt'], bins=np.linspace(0, 1))\n",
    "\n",
    "for ax_i in ax:\n",
    "    ax_i.set_yscale('log');\n",
    "    ax_i.set_xlabel('Inter-microburst separation [s]')\n",
    "ax[0].set_ylabel('Number of microbursts')\n",
    "\n",
    "H, bins = np.histogram(cat['dt'], bins=np.linspace(0, 2))\n",
    "print(f'The peak of the dt distribution is at {round(bins[np.argmax(H)], 3)} s.')\n"
   ]
  },
  {
   "cell_type": "markdown",
   "metadata": {},
   "source": [
    "As we zoomed in, we found that the dt distribution is peaked at ~0.3 seconds."
   ]
  },
  {
   "cell_type": "code",
   "execution_count": 7,
   "metadata": {},
   "outputs": [
    {
     "data": {
      "text/plain": [
       "array([0.46, 0.96, 4.2 ])"
      ]
     },
     "execution_count": 7,
     "metadata": {},
     "output_type": "execute_result"
    }
   ],
   "source": [
    "np.nanquantile(cat['dt'], q=(0.25, .50, 0.75))"
   ]
  },
  {
   "cell_type": "markdown",
   "metadata": {},
   "source": [
    "Helper function for a progress bar."
   ]
  },
  {
   "cell_type": "code",
   "execution_count": 83,
   "metadata": {},
   "outputs": [],
   "source": [
    "def progressbar(i, n):\n",
    "    # Update the status % in the terminal.\n",
    "    progress_percent = round(100 * i / n)\n",
    "    progress_str = \"#\" * (progress_percent // 5)\n",
    "    print(f'Calculating intervals: |{progress_str:<20}| {progress_percent}%', end='\\r')\n",
    "    return"
   ]
  },
  {
   "cell_type": "markdown",
   "metadata": {},
   "source": [
    "# Calculate the microburst trains\n",
    "First define a maximum time threshold between microbursts to qualify as a microburst train"
   ]
  },
  {
   "cell_type": "code",
   "execution_count": 36,
   "metadata": {},
   "outputs": [],
   "source": [
    "threshold_s = 1"
   ]
  },
  {
   "cell_type": "code",
   "execution_count": 24,
   "metadata": {},
   "outputs": [
    {
     "name": "stdout",
     "output_type": "stream",
     "text": [
      "Calculating intervals: |####################| 100%\n"
     ]
    },
    {
     "data": {
      "text/plain": [
       "array([[     2,      4],\n",
       "       [    12,     13],\n",
       "       [    14,     17],\n",
       "       ...,\n",
       "       [244003, 244004],\n",
       "       [244010, 244013],\n",
       "       [244015, 244018]])"
      ]
     },
     "execution_count": 24,
     "metadata": {},
     "output_type": "execute_result"
    }
   ],
   "source": [
    "def intervals(dt, threshold_s=1):\n",
    "    \"\"\"\n",
    "    Given a list of time differences, dt, calculate the start and end indices for\n",
    "    intervals where dt < threshold_s (units of seconds). \n",
    "    \"\"\"\n",
    "    i = 0\n",
    "    indices = np.zeros((0, 2), dtype=int)\n",
    "\n",
    "    while i < len(dt):\n",
    "\n",
    "        progressbar(i, len(dt))        \n",
    "\n",
    "        if (dt[i] > threshold_s) or np.isnan(dt[i]):\n",
    "            i += 1\n",
    "            continue\n",
    "        else:\n",
    "            j = i\n",
    "            if j == len(dt):\n",
    "                break\n",
    "            while dt[j] <= threshold_s:\n",
    "                j += 1\n",
    "            # This assumes pandas's inclusive index slicing. Change j-1 to j for numpy indexing.\n",
    "            indices = np.vstack((indices, [i-1, j-1]))\n",
    "            i = j\n",
    "    print()  # Add a newline to avoid merging the progress bar and the next print line.\n",
    "    return indices\n",
    "    \n",
    "indices = intervals(cat['dt'], threshold_s=threshold_s)\n",
    "indices"
   ]
  },
  {
   "cell_type": "markdown",
   "metadata": {},
   "source": [
    "Visually check that the first few indices match to the correct dt."
   ]
  },
  {
   "cell_type": "code",
   "execution_count": 25,
   "metadata": {},
   "outputs": [
    {
     "data": {
      "text/html": [
       "<div>\n",
       "<style scoped>\n",
       "    .dataframe tbody tr th:only-of-type {\n",
       "        vertical-align: middle;\n",
       "    }\n",
       "\n",
       "    .dataframe tbody tr th {\n",
       "        vertical-align: top;\n",
       "    }\n",
       "\n",
       "    .dataframe thead th {\n",
       "        text-align: right;\n",
       "    }\n",
       "</style>\n",
       "<table border=\"1\" class=\"dataframe\">\n",
       "  <thead>\n",
       "    <tr style=\"text-align: right;\">\n",
       "      <th></th>\n",
       "      <th>dateTime</th>\n",
       "      <th>dt</th>\n",
       "    </tr>\n",
       "  </thead>\n",
       "  <tbody>\n",
       "    <tr>\n",
       "      <th>0</th>\n",
       "      <td>1997-11-09 19:56:40.720</td>\n",
       "      <td>NaN</td>\n",
       "    </tr>\n",
       "    <tr>\n",
       "      <th>1</th>\n",
       "      <td>1997-11-09 19:56:46.920</td>\n",
       "      <td>6.20</td>\n",
       "    </tr>\n",
       "    <tr>\n",
       "      <th>2</th>\n",
       "      <td>1997-11-09 19:57:02.440</td>\n",
       "      <td>15.52</td>\n",
       "    </tr>\n",
       "    <tr>\n",
       "      <th>3</th>\n",
       "      <td>1997-11-09 19:57:02.760</td>\n",
       "      <td>0.32</td>\n",
       "    </tr>\n",
       "    <tr>\n",
       "      <th>4</th>\n",
       "      <td>1997-11-09 19:57:02.980</td>\n",
       "      <td>0.22</td>\n",
       "    </tr>\n",
       "    <tr>\n",
       "      <th>5</th>\n",
       "      <td>1997-11-09 19:57:09.720</td>\n",
       "      <td>6.74</td>\n",
       "    </tr>\n",
       "    <tr>\n",
       "      <th>6</th>\n",
       "      <td>1997-11-09 20:42:16.280</td>\n",
       "      <td>2706.56</td>\n",
       "    </tr>\n",
       "    <tr>\n",
       "      <th>7</th>\n",
       "      <td>1997-11-10 00:31:21.700</td>\n",
       "      <td>13745.42</td>\n",
       "    </tr>\n",
       "    <tr>\n",
       "      <th>8</th>\n",
       "      <td>1997-11-10 00:47:48.780</td>\n",
       "      <td>987.08</td>\n",
       "    </tr>\n",
       "    <tr>\n",
       "      <th>9</th>\n",
       "      <td>1997-11-10 01:20:27.020</td>\n",
       "      <td>1958.24</td>\n",
       "    </tr>\n",
       "    <tr>\n",
       "      <th>10</th>\n",
       "      <td>1997-11-10 02:58:24.840</td>\n",
       "      <td>5877.82</td>\n",
       "    </tr>\n",
       "    <tr>\n",
       "      <th>11</th>\n",
       "      <td>1997-11-10 03:14:31.560</td>\n",
       "      <td>966.72</td>\n",
       "    </tr>\n",
       "    <tr>\n",
       "      <th>12</th>\n",
       "      <td>1997-11-10 04:52:21.960</td>\n",
       "      <td>5870.40</td>\n",
       "    </tr>\n",
       "    <tr>\n",
       "      <th>13</th>\n",
       "      <td>1997-11-10 04:52:22.540</td>\n",
       "      <td>0.58</td>\n",
       "    </tr>\n",
       "    <tr>\n",
       "      <th>14</th>\n",
       "      <td>1997-11-10 04:52:24.560</td>\n",
       "      <td>2.02</td>\n",
       "    </tr>\n",
       "    <tr>\n",
       "      <th>15</th>\n",
       "      <td>1997-11-10 04:52:25.180</td>\n",
       "      <td>0.62</td>\n",
       "    </tr>\n",
       "    <tr>\n",
       "      <th>16</th>\n",
       "      <td>1997-11-10 04:52:25.580</td>\n",
       "      <td>0.40</td>\n",
       "    </tr>\n",
       "    <tr>\n",
       "      <th>17</th>\n",
       "      <td>1997-11-10 04:52:26.500</td>\n",
       "      <td>0.92</td>\n",
       "    </tr>\n",
       "    <tr>\n",
       "      <th>18</th>\n",
       "      <td>1997-11-10 05:39:04.000</td>\n",
       "      <td>2797.50</td>\n",
       "    </tr>\n",
       "    <tr>\n",
       "      <th>19</th>\n",
       "      <td>1997-11-10 07:16:46.440</td>\n",
       "      <td>5862.44</td>\n",
       "    </tr>\n",
       "  </tbody>\n",
       "</table>\n",
       "</div>"
      ],
      "text/plain": [
       "                  dateTime        dt\n",
       "0  1997-11-09 19:56:40.720       NaN\n",
       "1  1997-11-09 19:56:46.920      6.20\n",
       "2  1997-11-09 19:57:02.440     15.52\n",
       "3  1997-11-09 19:57:02.760      0.32\n",
       "4  1997-11-09 19:57:02.980      0.22\n",
       "5  1997-11-09 19:57:09.720      6.74\n",
       "6  1997-11-09 20:42:16.280   2706.56\n",
       "7  1997-11-10 00:31:21.700  13745.42\n",
       "8  1997-11-10 00:47:48.780    987.08\n",
       "9  1997-11-10 01:20:27.020   1958.24\n",
       "10 1997-11-10 02:58:24.840   5877.82\n",
       "11 1997-11-10 03:14:31.560    966.72\n",
       "12 1997-11-10 04:52:21.960   5870.40\n",
       "13 1997-11-10 04:52:22.540      0.58\n",
       "14 1997-11-10 04:52:24.560      2.02\n",
       "15 1997-11-10 04:52:25.180      0.62\n",
       "16 1997-11-10 04:52:25.580      0.40\n",
       "17 1997-11-10 04:52:26.500      0.92\n",
       "18 1997-11-10 05:39:04.000   2797.50\n",
       "19 1997-11-10 07:16:46.440   5862.44"
      ]
     },
     "execution_count": 25,
     "metadata": {},
     "output_type": "execute_result"
    }
   ],
   "source": [
    "cat['dt'].reset_index().iloc[:20]"
   ]
  },
  {
   "cell_type": "markdown",
   "metadata": {},
   "source": [
    "## Calculate train values"
   ]
  },
  {
   "cell_type": "code",
   "execution_count": 77,
   "metadata": {},
   "outputs": [],
   "source": [
    "trains = pd.DataFrame(\n",
    "    data=np.nan*np.zeros((indices.shape[0], len(cat.columns)+1)),\n",
    "    index=cat.index[indices[:,0]],\n",
    "    columns=np.concatenate((cat.columns.to_numpy(), ['n_microbursts']))\n",
    ")"
   ]
  },
  {
   "cell_type": "code",
   "execution_count": 84,
   "metadata": {},
   "outputs": [
    {
     "name": "stdout",
     "output_type": "stream",
     "text": [
      "Calculating intervals: |                    | 0%\r"
     ]
    },
    {
     "name": "stderr",
     "output_type": "stream",
     "text": [
      "/tmp/ipykernel_427514/2220798002.py:3: FutureWarning: Dropping of nuisance columns in DataFrame reductions (with 'numeric_only=None') is deprecated; in a future version this will raise TypeError.  Select only valid columns before calling the reduction.\n",
      "  trains.loc[cat.index[start], cat.columns] = cat.iloc[start:end, :].mean()\n"
     ]
    },
    {
     "name": "stdout",
     "output_type": "stream",
     "text": [
      "Calculating intervals: |####################| 100%\r"
     ]
    }
   ],
   "source": [
    "for i, (start, end) in enumerate(indices):\n",
    "    progressbar(i, indices.shape[0]) \n",
    "    trains.loc[cat.index[start], cat.columns] = cat.iloc[start:end, :].mean()\n",
    "    # The +1 is to avoid averaging the dt from the previous gap\n",
    "    trains.loc[cat.index[start], 'dt'] = cat.loc[cat.index[start+1]:cat.index[end], 'dt'].mean()\n",
    "    trains.loc[cat.index[start], 'n_microbursts'] = end-start+1\n",
    "trains.drop(columns=['burst_param', 'date'], inplace=True)"
   ]
  },
  {
   "cell_type": "code",
   "execution_count": 87,
   "metadata": {},
   "outputs": [
    {
     "data": {
      "text/html": [
       "<div>\n",
       "<style scoped>\n",
       "    .dataframe tbody tr th:only-of-type {\n",
       "        vertical-align: middle;\n",
       "    }\n",
       "\n",
       "    .dataframe tbody tr th {\n",
       "        vertical-align: top;\n",
       "    }\n",
       "\n",
       "    .dataframe thead th {\n",
       "        text-align: right;\n",
       "    }\n",
       "</style>\n",
       "<table border=\"1\" class=\"dataframe\">\n",
       "  <thead>\n",
       "    <tr style=\"text-align: right;\">\n",
       "      <th></th>\n",
       "      <th>GEO_Long</th>\n",
       "      <th>GEO_Lat</th>\n",
       "      <th>Altitude</th>\n",
       "      <th>L_Shell</th>\n",
       "      <th>MLT</th>\n",
       "      <th>Att_Flag</th>\n",
       "      <th>Pitch</th>\n",
       "      <th>AE</th>\n",
       "      <th>AL</th>\n",
       "      <th>AU</th>\n",
       "      <th>SYM/D</th>\n",
       "      <th>SYM/H</th>\n",
       "      <th>ASY/D</th>\n",
       "      <th>ASY/H</th>\n",
       "      <th>dt</th>\n",
       "      <th>n_microbursts</th>\n",
       "    </tr>\n",
       "    <tr>\n",
       "      <th>dateTime</th>\n",
       "      <th></th>\n",
       "      <th></th>\n",
       "      <th></th>\n",
       "      <th></th>\n",
       "      <th></th>\n",
       "      <th></th>\n",
       "      <th></th>\n",
       "      <th></th>\n",
       "      <th></th>\n",
       "      <th></th>\n",
       "      <th></th>\n",
       "      <th></th>\n",
       "      <th></th>\n",
       "      <th></th>\n",
       "      <th></th>\n",
       "      <th></th>\n",
       "    </tr>\n",
       "  </thead>\n",
       "  <tbody>\n",
       "    <tr>\n",
       "      <th>1997-11-09 19:57:02.440</th>\n",
       "      <td>110.202</td>\n",
       "      <td>68.0984</td>\n",
       "      <td>681.558</td>\n",
       "      <td>4.99033</td>\n",
       "      <td>3.41316</td>\n",
       "      <td>0.0</td>\n",
       "      <td>32.8191</td>\n",
       "      <td>660.0</td>\n",
       "      <td>-518.0</td>\n",
       "      <td>142.0</td>\n",
       "      <td>-5.0</td>\n",
       "      <td>-16.0</td>\n",
       "      <td>23.0</td>\n",
       "      <td>42.0</td>\n",
       "      <td>0.270000</td>\n",
       "      <td>3.0</td>\n",
       "    </tr>\n",
       "    <tr>\n",
       "      <th>1997-11-10 04:52:21.960</th>\n",
       "      <td>165.599</td>\n",
       "      <td>-53.4134</td>\n",
       "      <td>531.769</td>\n",
       "      <td>4.82424</td>\n",
       "      <td>17.46640</td>\n",
       "      <td>0.0</td>\n",
       "      <td>155.8127</td>\n",
       "      <td>257.0</td>\n",
       "      <td>-58.0</td>\n",
       "      <td>199.0</td>\n",
       "      <td>4.0</td>\n",
       "      <td>-43.0</td>\n",
       "      <td>32.0</td>\n",
       "      <td>33.0</td>\n",
       "      <td>0.580000</td>\n",
       "      <td>2.0</td>\n",
       "    </tr>\n",
       "    <tr>\n",
       "      <th>1997-11-10 04:52:24.560</th>\n",
       "      <td>165.728</td>\n",
       "      <td>-53.0439</td>\n",
       "      <td>531.669</td>\n",
       "      <td>4.69422</td>\n",
       "      <td>17.45850</td>\n",
       "      <td>0.0</td>\n",
       "      <td>155.9210</td>\n",
       "      <td>257.0</td>\n",
       "      <td>-58.0</td>\n",
       "      <td>199.0</td>\n",
       "      <td>4.0</td>\n",
       "      <td>-43.0</td>\n",
       "      <td>32.0</td>\n",
       "      <td>33.0</td>\n",
       "      <td>0.646667</td>\n",
       "      <td>4.0</td>\n",
       "    </tr>\n",
       "    <tr>\n",
       "      <th>1997-11-10 07:17:11.700</th>\n",
       "      <td>309.107</td>\n",
       "      <td>53.6210</td>\n",
       "      <td>680.153</td>\n",
       "      <td>4.55372</td>\n",
       "      <td>5.23839</td>\n",
       "      <td>0.0</td>\n",
       "      <td>25.8763</td>\n",
       "      <td>399.0</td>\n",
       "      <td>-298.0</td>\n",
       "      <td>101.0</td>\n",
       "      <td>5.0</td>\n",
       "      <td>-34.0</td>\n",
       "      <td>29.0</td>\n",
       "      <td>51.0</td>\n",
       "      <td>0.980000</td>\n",
       "      <td>2.0</td>\n",
       "    </tr>\n",
       "    <tr>\n",
       "      <th>1997-11-14 12:38:19.000</th>\n",
       "      <td>215.561</td>\n",
       "      <td>62.1377</td>\n",
       "      <td>681.167</td>\n",
       "      <td>5.36051</td>\n",
       "      <td>2.23292</td>\n",
       "      <td>0.0</td>\n",
       "      <td>45.8750</td>\n",
       "      <td>405.0</td>\n",
       "      <td>-340.0</td>\n",
       "      <td>65.0</td>\n",
       "      <td>4.0</td>\n",
       "      <td>-22.0</td>\n",
       "      <td>16.0</td>\n",
       "      <td>45.0</td>\n",
       "      <td>0.710000</td>\n",
       "      <td>3.0</td>\n",
       "    </tr>\n",
       "  </tbody>\n",
       "</table>\n",
       "</div>"
      ],
      "text/plain": [
       "                         GEO_Long  GEO_Lat  Altitude  L_Shell       MLT  \\\n",
       "dateTime                                                                  \n",
       "1997-11-09 19:57:02.440   110.202  68.0984   681.558  4.99033   3.41316   \n",
       "1997-11-10 04:52:21.960   165.599 -53.4134   531.769  4.82424  17.46640   \n",
       "1997-11-10 04:52:24.560   165.728 -53.0439   531.669  4.69422  17.45850   \n",
       "1997-11-10 07:17:11.700   309.107  53.6210   680.153  4.55372   5.23839   \n",
       "1997-11-14 12:38:19.000   215.561  62.1377   681.167  5.36051   2.23292   \n",
       "\n",
       "                         Att_Flag     Pitch     AE     AL     AU  SYM/D  \\\n",
       "dateTime                                                                  \n",
       "1997-11-09 19:57:02.440       0.0   32.8191  660.0 -518.0  142.0   -5.0   \n",
       "1997-11-10 04:52:21.960       0.0  155.8127  257.0  -58.0  199.0    4.0   \n",
       "1997-11-10 04:52:24.560       0.0  155.9210  257.0  -58.0  199.0    4.0   \n",
       "1997-11-10 07:17:11.700       0.0   25.8763  399.0 -298.0  101.0    5.0   \n",
       "1997-11-14 12:38:19.000       0.0   45.8750  405.0 -340.0   65.0    4.0   \n",
       "\n",
       "                         SYM/H  ASY/D  ASY/H        dt  n_microbursts  \n",
       "dateTime                                                               \n",
       "1997-11-09 19:57:02.440  -16.0   23.0   42.0  0.270000            3.0  \n",
       "1997-11-10 04:52:21.960  -43.0   32.0   33.0  0.580000            2.0  \n",
       "1997-11-10 04:52:24.560  -43.0   32.0   33.0  0.646667            4.0  \n",
       "1997-11-10 07:17:11.700  -34.0   29.0   51.0  0.980000            2.0  \n",
       "1997-11-14 12:38:19.000  -22.0   16.0   45.0  0.710000            3.0  "
      ]
     },
     "execution_count": 87,
     "metadata": {},
     "output_type": "execute_result"
    }
   ],
   "source": [
    "trains.head()"
   ]
  },
  {
   "cell_type": "code",
   "execution_count": 106,
   "metadata": {},
   "outputs": [
    {
     "data": {
      "image/png": "[encoded data removed]",
      "text/plain": [
       "<Figure size 576x432 with 1 Axes>"
      ]
     },
     "metadata": {
      "needs_background": "light"
     },
     "output_type": "display_data"
    }
   ],
   "source": [
    "train_bins = np.arange(2, 20)\n",
    "fig, cx = plt.subplots(figsize=(8,6))\n",
    "cx.hist(trains['n_microbursts'], bins=train_bins)\n",
    "cx.set_xticks(train_bins)\n",
    "cx.set(xlabel='Microburst train length', ylabel='Number of trains');"
   ]
  }
 ],
 "metadata": {
  "interpreter": {
   "hash": "90f04d48d5171605cdd1b77d730eceba36db9e39b664e173bf4ca911ed718a78"
  },
  "kernelspec": {
   "display_name": "Python 3.9.0 64-bit ('env': venv)",
   "language": "python",
   "name": "python3"
  },
  "language_info": {
   "codemirror_mode": {
    "name": "ipython",
    "version": 3
   },
   "file_extension": ".py",
   "mimetype": "text/x-python",
   "name": "python",
   "nbconvert_exporter": "python",
   "pygments_lexer": "ipython3",
   "version": "3.9.0"
  },
  "orig_nbformat": 4
 },
 "nbformat": 4,
 "nbformat_minor": 2
}
